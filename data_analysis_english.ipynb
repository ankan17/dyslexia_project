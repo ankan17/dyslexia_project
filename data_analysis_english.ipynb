{
 "cells": [
  {
   "cell_type": "code",
   "execution_count": 30,
   "metadata": {},
   "outputs": [],
   "source": [
    "import pandas as pd\n",
    "import matplotlib.pyplot as plt\n",
    "from tqdm import tqdm\n",
    "import numpy as np\n",
    "import re"
   ]
  },
  {
   "cell_type": "code",
   "execution_count": 31,
   "metadata": {},
   "outputs": [
    {
     "data": {
      "text/html": [
       "<div>\n",
       "<style scoped>\n",
       "    .dataframe tbody tr th:only-of-type {\n",
       "        vertical-align: middle;\n",
       "    }\n",
       "\n",
       "    .dataframe tbody tr th {\n",
       "        vertical-align: top;\n",
       "    }\n",
       "\n",
       "    .dataframe thead th {\n",
       "        text-align: right;\n",
       "    }\n",
       "</style>\n",
       "<table border=\"1\" class=\"dataframe\">\n",
       "  <thead>\n",
       "    <tr style=\"text-align: right;\">\n",
       "      <th></th>\n",
       "      <th>Subject</th>\n",
       "      <th>Word 1</th>\n",
       "      <th>Word 2</th>\n",
       "      <th>Word 3</th>\n",
       "      <th>Word 4</th>\n",
       "      <th>Word 5</th>\n",
       "      <th>Word 6</th>\n",
       "      <th>Word 7</th>\n",
       "      <th>Word 8</th>\n",
       "      <th>Word 9</th>\n",
       "      <th>...</th>\n",
       "      <th>Word 51</th>\n",
       "      <th>Word 52</th>\n",
       "      <th>Word 53</th>\n",
       "      <th>Word 54</th>\n",
       "      <th>Word 55</th>\n",
       "      <th>Word 56</th>\n",
       "      <th>Word 57</th>\n",
       "      <th>Word 58</th>\n",
       "      <th>Word 59</th>\n",
       "      <th>Word 60</th>\n",
       "    </tr>\n",
       "  </thead>\n",
       "  <tbody>\n",
       "    <tr>\n",
       "      <th>0</th>\n",
       "      <td>Original</td>\n",
       "      <td>lost</td>\n",
       "      <td>bolt</td>\n",
       "      <td>there</td>\n",
       "      <td>filed</td>\n",
       "      <td>beings</td>\n",
       "      <td>expect</td>\n",
       "      <td>bread</td>\n",
       "      <td>bowls</td>\n",
       "      <td>tired</td>\n",
       "      <td>...</td>\n",
       "      <td>nerve</td>\n",
       "      <td>spread</td>\n",
       "      <td>cruelty</td>\n",
       "      <td>flies</td>\n",
       "      <td>trap</td>\n",
       "      <td>sings</td>\n",
       "      <td>from</td>\n",
       "      <td>stale</td>\n",
       "      <td>quite</td>\n",
       "      <td>dairy</td>\n",
       "    </tr>\n",
       "    <tr>\n",
       "      <th>1</th>\n",
       "      <td>5.1</td>\n",
       "      <td>lost</td>\n",
       "      <td>bolt</td>\n",
       "      <td>three</td>\n",
       "      <td>field</td>\n",
       "      <td>beings</td>\n",
       "      <td>except</td>\n",
       "      <td>bread</td>\n",
       "      <td>bowls</td>\n",
       "      <td>tired</td>\n",
       "      <td>...</td>\n",
       "      <td>nerve</td>\n",
       "      <td>spread</td>\n",
       "      <td>cruetly</td>\n",
       "      <td>flies</td>\n",
       "      <td>trap</td>\n",
       "      <td>sings</td>\n",
       "      <td>from</td>\n",
       "      <td>stale</td>\n",
       "      <td>quite</td>\n",
       "      <td>dairy</td>\n",
       "    </tr>\n",
       "    <tr>\n",
       "      <th>2</th>\n",
       "      <td>5.2</td>\n",
       "      <td>lost</td>\n",
       "      <td>bolt</td>\n",
       "      <td>there</td>\n",
       "      <td>field</td>\n",
       "      <td>beings</td>\n",
       "      <td>expect</td>\n",
       "      <td>bread</td>\n",
       "      <td>bowls</td>\n",
       "      <td>tried</td>\n",
       "      <td>...</td>\n",
       "      <td>nerve</td>\n",
       "      <td>spread</td>\n",
       "      <td>cruelty</td>\n",
       "      <td>fiels</td>\n",
       "      <td>trap</td>\n",
       "      <td>sings</td>\n",
       "      <td>form</td>\n",
       "      <td>stale</td>\n",
       "      <td>quiet</td>\n",
       "      <td>diary</td>\n",
       "    </tr>\n",
       "    <tr>\n",
       "      <th>3</th>\n",
       "      <td>5.3</td>\n",
       "      <td>lost</td>\n",
       "      <td>bolt</td>\n",
       "      <td>there</td>\n",
       "      <td>field</td>\n",
       "      <td>beings</td>\n",
       "      <td>respect</td>\n",
       "      <td>bread</td>\n",
       "      <td>bowls</td>\n",
       "      <td>tired</td>\n",
       "      <td>...</td>\n",
       "      <td>nerve</td>\n",
       "      <td>spread</td>\n",
       "      <td>cutely</td>\n",
       "      <td>flies</td>\n",
       "      <td>trap</td>\n",
       "      <td>sings</td>\n",
       "      <td>from</td>\n",
       "      <td>stale</td>\n",
       "      <td>quite</td>\n",
       "      <td>diary</td>\n",
       "    </tr>\n",
       "    <tr>\n",
       "      <th>4</th>\n",
       "      <td>5.4</td>\n",
       "      <td>lost</td>\n",
       "      <td>bolt</td>\n",
       "      <td>there</td>\n",
       "      <td>field</td>\n",
       "      <td>begins</td>\n",
       "      <td>except</td>\n",
       "      <td>bread</td>\n",
       "      <td>bowls</td>\n",
       "      <td>tried</td>\n",
       "      <td>...</td>\n",
       "      <td>nerves</td>\n",
       "      <td>spread</td>\n",
       "      <td>cruel</td>\n",
       "      <td>files</td>\n",
       "      <td>trap</td>\n",
       "      <td>sings</td>\n",
       "      <td>from</td>\n",
       "      <td>slate</td>\n",
       "      <td>quite</td>\n",
       "      <td>diary</td>\n",
       "    </tr>\n",
       "  </tbody>\n",
       "</table>\n",
       "<p>5 rows × 61 columns</p>\n",
       "</div>"
      ],
      "text/plain": [
       "    Subject Word 1 Word 2 Word 3 Word 4  Word 5   Word 6 Word 7 Word 8 Word 9  \\\n",
       "0  Original   lost   bolt  there  filed  beings   expect  bread  bowls  tired   \n",
       "1       5.1   lost   bolt  three  field  beings   except  bread  bowls  tired   \n",
       "2       5.2   lost   bolt  there  field  beings   expect  bread  bowls  tried   \n",
       "3       5.3   lost   bolt  there  field  beings  respect  bread  bowls  tired   \n",
       "4       5.4   lost   bolt  there  field  begins   except  bread  bowls  tried   \n",
       "\n",
       "   ... Word 51 Word 52  Word 53 Word 54 Word 55 Word 56 Word 57 Word 58  \\\n",
       "0  ...   nerve  spread  cruelty   flies    trap   sings    from   stale   \n",
       "1  ...   nerve  spread  cruetly   flies    trap   sings    from   stale   \n",
       "2  ...   nerve  spread  cruelty   fiels    trap   sings    form   stale   \n",
       "3  ...   nerve  spread   cutely   flies    trap   sings    from   stale   \n",
       "4  ...  nerves  spread    cruel   files    trap   sings    from   slate   \n",
       "\n",
       "  Word 59 Word 60  \n",
       "0   quite   dairy  \n",
       "1   quite   dairy  \n",
       "2   quiet   diary  \n",
       "3   quite   diary  \n",
       "4   quite   diary  \n",
       "\n",
       "[5 rows x 61 columns]"
      ]
     },
     "execution_count": 31,
     "metadata": {},
     "output_type": "execute_result"
    }
   ],
   "source": [
    "df = pd.read_csv('files/speech_data_english.csv')\n",
    "df = df.replace(float('nan'), None)\n",
    "df.head()"
   ]
  },
  {
   "cell_type": "markdown",
   "metadata": {},
   "source": [
    "## Preprocessing"
   ]
  },
  {
   "cell_type": "code",
   "execution_count": 33,
   "metadata": {},
   "outputs": [
    {
     "data": {
      "text/plain": [
       "[{'original': 'lost', 'pronounced': 'lost'},\n",
       " {'original': 'bolt', 'pronounced': 'bolt'},\n",
       " {'original': 'there', 'pronounced': 'three'},\n",
       " {'original': 'filed', 'pronounced': 'field'},\n",
       " {'original': 'beings', 'pronounced': 'beings'},\n",
       " {'original': 'expect', 'pronounced': 'except'},\n",
       " {'original': 'bread', 'pronounced': 'bread'},\n",
       " {'original': 'bowls', 'pronounced': 'bowls'},\n",
       " {'original': 'tired', 'pronounced': 'tired'},\n",
       " {'original': 'could', 'pronounced': 'could'},\n",
       " {'original': 'barn', 'pronounced': 'barn'},\n",
       " {'original': 'trial', 'pronounced': 'trial'},\n",
       " {'original': 'smile', 'pronounced': 'smile'},\n",
       " {'original': 'fires', 'pronounced': 'fires'},\n",
       " {'original': 'parties', 'pronounced': 'parites'},\n",
       " {'original': 'coats', 'pronounced': 'coats'},\n",
       " {'original': 'sneaks', 'pronounced': 'snakes'},\n",
       " {'original': 'fits', 'pronounced': 'fits'},\n",
       " {'original': 'wrap', 'pronounced': 'wrap'},\n",
       " {'original': 'braked', 'pronounced': 'barked'},\n",
       " {'original': 'never', 'pronounced': 'never'},\n",
       " {'original': 'spared', 'pronounced': 'spread'},\n",
       " {'original': 'cutlery', 'pronounced': 'cutely'},\n",
       " {'original': 'flies', 'pronounced': 'flies'},\n",
       " {'original': 'tarp', 'pronounced': 'trap'},\n",
       " {'original': 'signs', 'pronounced': 'sings'},\n",
       " {'original': 'form', 'pronounced': 'form'},\n",
       " {'original': 'slate', 'pronounced': 'slate'},\n",
       " {'original': 'quiet', 'pronounced': 'quiet'},\n",
       " {'original': 'diary', 'pronounced': 'diary'},\n",
       " {'original': 'lots', 'pronounced': 'lots'},\n",
       " {'original': 'blot', 'pronounced': 'blot'},\n",
       " {'original': 'three', 'pronounced': 'three'},\n",
       " {'original': 'field', 'pronounced': 'field'},\n",
       " {'original': 'begins', 'pronounced': 'beings'},\n",
       " {'original': 'except', 'pronounced': 'except'},\n",
       " {'original': 'beard', 'pronounced': 'beard'},\n",
       " {'original': 'blows', 'pronounced': 'blows'},\n",
       " {'original': 'tried', 'pronounced': 'tired'},\n",
       " {'original': 'cloud', 'pronounced': 'cloud'},\n",
       " {'original': 'bran', 'pronounced': 'bran'},\n",
       " {'original': 'trail', 'pronounced': 'trails'},\n",
       " {'original': 'slime', 'pronounced': 'slime'},\n",
       " {'original': 'fries', 'pronounced': 'fires'},\n",
       " {'original': 'pirates', 'pronounced': 'pirates'},\n",
       " {'original': 'coast', 'pronounced': 'coast'},\n",
       " {'original': 'snakes', 'pronounced': 'snakes'},\n",
       " {'original': 'fist', 'pronounced': 'first'},\n",
       " {'original': 'warp', 'pronounced': 'wrap'},\n",
       " {'original': 'barked', 'pronounced': 'barked'},\n",
       " {'original': 'nerve', 'pronounced': 'nerve'},\n",
       " {'original': 'spread', 'pronounced': 'spread'},\n",
       " {'original': 'cruelty', 'pronounced': 'cruetly'},\n",
       " {'original': 'flies', 'pronounced': 'flies'},\n",
       " {'original': 'trap', 'pronounced': 'trap'},\n",
       " {'original': 'sings', 'pronounced': 'sings'},\n",
       " {'original': 'from', 'pronounced': 'from'},\n",
       " {'original': 'stale', 'pronounced': 'stale'},\n",
       " {'original': 'quite', 'pronounced': 'quite'},\n",
       " {'original': 'dairy', 'pronounced': 'dairy'}]"
      ]
     },
     "execution_count": 33,
     "metadata": {},
     "output_type": "execute_result"
    }
   ],
   "source": [
    "# Preprocessing\n",
    "df = df.applymap(lambda s: s.strip().lower() if type(s) == str else s)\n",
    "df.head()\n",
    "\n",
    "# Build required data structures\n",
    "subjects = [r[0] for i,r in df.iterrows() if i != 0]\n",
    "\n",
    "words = df[df['Subject'] == \"original\"].values.tolist()[0][1:]\n",
    "\n",
    "data = {s:[] for s in subjects}\n",
    "for s, row in df.iterrows():\n",
    "    if s != 0:\n",
    "        for i, word in enumerate(row[1:]):\n",
    "            data[subjects[s-1]].append({'original': words[i], 'pronounced': word})\n",
    "data['5.1']"
   ]
  },
  {
   "cell_type": "markdown",
   "metadata": {},
   "source": [
    "## Student Data"
   ]
  },
  {
   "cell_type": "code",
   "execution_count": 34,
   "metadata": {},
   "outputs": [],
   "source": [
    "def calculate_score(subject):\n",
    "    pronounced = df[df['Subject'] == subject].values.tolist()[0][1:]\n",
    "    original = df[df['Subject'] == \"original\"].values.tolist()[0][1:]\n",
    "    try:\n",
    "        return sum([1 if x == y else 0 for x,y in zip(pronounced,original)])\n",
    "    except:\n",
    "        print(pronounced)"
   ]
  },
  {
   "cell_type": "code",
   "execution_count": 35,
   "metadata": {},
   "outputs": [
    {
     "data": {
      "image/png": "[encoded data removed]",
      "text/plain": [
       "<Figure size 432x288 with 1 Axes>"
      ]
     },
     "metadata": {
      "needs_background": "light"
     },
     "output_type": "display_data"
    }
   ],
   "source": [
    "# Histogram\n",
    "scores = [calculate_score(x) for x in subjects]\n",
    "plt.hist(scores, bins=10)\n",
    "plt.show()"
   ]
  },
  {
   "cell_type": "code",
   "execution_count": 36,
   "metadata": {},
   "outputs": [
    {
     "data": {
      "image/png": "[encoded data removed]",
      "text/plain": [
       "<Figure size 1440x1440 with 4 Axes>"
      ]
     },
     "metadata": {
      "needs_background": "light"
     },
     "output_type": "display_data"
    }
   ],
   "source": [
    "# Classwise bar plots\n",
    "grade_5 = list(filter(lambda x: re.match(r\"^5.\\d*\", x), subjects))\n",
    "grade_4 = list(filter(lambda x: re.match(r\"^4.\\d*\", x), subjects))\n",
    "grade_3 = list(filter(lambda x: re.match(r\"^3.\\d*\", x), subjects))\n",
    "grade_2 = list(filter(lambda x: re.match(r\"^2.\\d*\", x), subjects))\n",
    "\n",
    "fig, (ax1, ax2, ax3, ax4) = plt.subplots(4, figsize=(20,20))\n",
    "\n",
    "ax1.bar(grade_5, scores[:len(grade_5)])\n",
    "ax1.set_title('Class 5')\n",
    "ax2.bar(grade_4, scores[len(grade_5):len(grade_5)+len(grade_4)])\n",
    "ax2.set_title('Class 4')\n",
    "ax3.bar(grade_3, scores[len(grade_5)+len(grade_4):len(grade_5)+len(grade_4)+len(grade_3)])\n",
    "ax3.set_title('Class 3')\n",
    "ax4.bar(grade_2, scores[len(grade_5)+len(grade_4)+len(grade_3):])\n",
    "ax4.set_title('Class 2')\n",
    "\n",
    "plt.show()"
   ]
  },
  {
   "cell_type": "markdown",
   "metadata": {},
   "source": [
    "## How the words were pronounced"
   ]
  },
  {
   "cell_type": "code",
   "execution_count": 37,
   "metadata": {
    "scrolled": true
   },
   "outputs": [
    {
     "data": {
      "image/png": "[encoded data removed]",
      "text/plain": [
       "<Figure size 1440x1440 with 3 Axes>"
      ]
     },
     "metadata": {
      "needs_background": "light"
     },
     "output_type": "display_data"
    }
   ],
   "source": [
    "word_count = {x:0 for x in df[df['Subject'] == \"original\"].values.tolist()[0][1:]}\n",
    "\n",
    "for _, row in data.items():\n",
    "    for w in row:\n",
    "        if w['original'] == w['pronounced']:\n",
    "            word_count[w['original']] += 1\n",
    "\n",
    "fig, (ax1, ax2, ax3) = plt.subplots(3, figsize=(20,20))\n",
    "ax1.bar(list(word_count.keys())[:20], list(word_count.values())[:20])\n",
    "ax2.bar(list(word_count.keys())[20:40], list(word_count.values())[20:40])\n",
    "ax3.bar(list(word_count.keys())[40:], list(word_count.values())[40:])\n",
    "\n",
    "plt.show()"
   ]
  },
  {
   "cell_type": "markdown",
   "metadata": {},
   "source": [
    "## Anagrams and migrations"
   ]
  },
  {
   "cell_type": "code",
   "execution_count": 38,
   "metadata": {},
   "outputs": [],
   "source": [
    "def check_anagram(word1, word2):\n",
    "    return sorted(word1) == sorted(word2)"
   ]
  },
  {
   "cell_type": "code",
   "execution_count": 39,
   "metadata": {},
   "outputs": [],
   "source": [
    "anagrams_pronounced, middle_migrations, exterior_migrations = [], [], []\n",
    "for _, row in data.items():\n",
    "    anagram_count, mid_mig_count, ext_mig_count = 0, 0, 0\n",
    "    for w in row:\n",
    "        w['is_anagram'] = (w['original'] != w['pronounced']) and \\\n",
    "                          check_anagram(w['original'], w['pronounced'])\n",
    "        if w['is_anagram']:\n",
    "            anagram_count += 1\n",
    "            if w['original'][0] != w['pronounced'][0] or w['original'][-1] != w['pronounced'][-1]:\n",
    "                w['is_exterior_migration'] = True\n",
    "                ext_mig_count += 1\n",
    "            else:\n",
    "                w['is_exterior_migration'] = False\n",
    "        \n",
    "            w['is_middle_migration'] = check_anagram(w['original'][1:-1], w['pronounced'][1:-1])\n",
    "            if w['is_middle_migration']:\n",
    "                mid_mig_count += 1\n",
    "        else:\n",
    "            w['is_exterior_migration'] = False\n",
    "            w['is_middle_migration'] = False\n",
    "    \n",
    "    anagrams_pronounced.append(anagram_count)\n",
    "    middle_migrations.append(mid_mig_count)\n",
    "    exterior_migrations.append(ext_mig_count)"
   ]
  },
  {
   "cell_type": "markdown",
   "metadata": {},
   "source": [
    "## Levenshtein Distance"
   ]
  },
  {
   "cell_type": "code",
   "execution_count": 40,
   "metadata": {},
   "outputs": [],
   "source": [
    "#Reference: https://www.datacamp.com/community/tutorials/fuzzy-string-python\n",
    "def levenshtein_distance(s, t):\n",
    "    rows, cols = len(s)+1, len(t)+1\n",
    "    distance = np.zeros((rows,cols),dtype = int)\n",
    "\n",
    "    for i in range(1, rows):\n",
    "        for k in range(1,cols):\n",
    "            distance[i][0], distance[0][k] = i, k\n",
    "  \n",
    "    for col in range(1, cols):\n",
    "        for row in range(1, rows):\n",
    "            if s[row-1] == t[col-1]:\n",
    "                cost = 0\n",
    "            else:\n",
    "                cost = 1\n",
    "            distance[row][col] = min(distance[row-1][col] + 1,\n",
    "                                 distance[row][col-1] + 1,\n",
    "                                 distance[row-1][col-1] + cost)\n",
    "    return distance[row][col]\n",
    "\n"
   ]
  },
  {
   "cell_type": "code",
   "execution_count": 41,
   "metadata": {},
   "outputs": [],
   "source": [
    "avg_levenshtein_distances = []\n",
    "for _, row in data.items():\n",
    "    total_distance = 0\n",
    "    for w in row:\n",
    "        w['distance'] = levenshtein_distance(w['original'], w['pronounced'])\n",
    "        total_distance += w['distance']\n",
    "    avg_levenshtein_distances.append(total_distance/len(words))"
   ]
  },
  {
   "cell_type": "code",
   "execution_count": 43,
   "metadata": {},
   "outputs": [],
   "source": [
    "processed_df = pd.DataFrame(\n",
    "    data={\"Subject\": subjects, \"Average Levenshtein Distance\": avg_levenshtein_distances, \n",
    "          \"Anagrams pronounced\": anagrams_pronounced, \"Middle letter migrations\": middle_migrations, \n",
    "          \"Exterior Migrations\": exterior_migrations}\n",
    ")\n",
    "processed_df.to_csv(\"english_processed.csv\", index=False)"
   ]
  }
 ],
 "metadata": {
  "kernelspec": {
   "display_name": "Python 3",
   "language": "python",
   "name": "python3"
  },
  "language_info": {
   "codemirror_mode": {
    "name": "ipython",
    "version": 3
   },
   "file_extension": ".py",
   "mimetype": "text/x-python",
   "name": "python",
   "nbconvert_exporter": "python",
   "pygments_lexer": "ipython3",
   "version": "3.7.4"
  }
 },
 "nbformat": 4,
 "nbformat_minor": 4
}
