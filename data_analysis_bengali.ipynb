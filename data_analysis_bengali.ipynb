{
 "cells": [
  {
   "cell_type": "code",
   "execution_count": 13,
   "metadata": {},
   "outputs": [],
   "source": [
    "import pandas as pd\n",
    "import matplotlib.pyplot as plt\n",
    "from tqdm import tqdm\n",
    "import numpy as np\n",
    "import re"
   ]
  },
  {
   "cell_type": "code",
   "execution_count": 14,
   "metadata": {},
   "outputs": [
    {
     "data": {
      "text/html": [
       "<div>\n",
       "<style scoped>\n",
       "    .dataframe tbody tr th:only-of-type {\n",
       "        vertical-align: middle;\n",
       "    }\n",
       "\n",
       "    .dataframe tbody tr th {\n",
       "        vertical-align: top;\n",
       "    }\n",
       "\n",
       "    .dataframe thead th {\n",
       "        text-align: right;\n",
       "    }\n",
       "</style>\n",
       "<table border=\"1\" class=\"dataframe\">\n",
       "  <thead>\n",
       "    <tr style=\"text-align: right;\">\n",
       "      <th></th>\n",
       "      <th>Subject</th>\n",
       "      <th>Word 1</th>\n",
       "      <th>Word 2</th>\n",
       "      <th>Word 3</th>\n",
       "      <th>Word 4</th>\n",
       "      <th>Word 5</th>\n",
       "      <th>Word 6</th>\n",
       "      <th>Word 7</th>\n",
       "      <th>Word 8</th>\n",
       "      <th>Word 9</th>\n",
       "      <th>...</th>\n",
       "      <th>Word 51</th>\n",
       "      <th>Word 52</th>\n",
       "      <th>Word 53</th>\n",
       "      <th>Word 54</th>\n",
       "      <th>Word 55</th>\n",
       "      <th>Word 56</th>\n",
       "      <th>Word 57</th>\n",
       "      <th>Word 58</th>\n",
       "      <th>Word 59</th>\n",
       "      <th>Word 60</th>\n",
       "    </tr>\n",
       "  </thead>\n",
       "  <tbody>\n",
       "    <tr>\n",
       "      <th>0</th>\n",
       "      <td>Original</td>\n",
       "      <td>গোপাল</td>\n",
       "      <td>কলম</td>\n",
       "      <td>বাক্য</td>\n",
       "      <td>তারকা</td>\n",
       "      <td>আমরা</td>\n",
       "      <td>তালিম</td>\n",
       "      <td>মাথায়</td>\n",
       "      <td>মকর</td>\n",
       "      <td>তুলসী</td>\n",
       "      <td>...</td>\n",
       "      <td>তেনারা</td>\n",
       "      <td>সৈকত</td>\n",
       "      <td>ব্যাসন</td>\n",
       "      <td>ঘণ্টাটি</td>\n",
       "      <td>একলা</td>\n",
       "      <td>বিবরণ</td>\n",
       "      <td>তিনি</td>\n",
       "      <td>তমাল</td>\n",
       "      <td>জলপান</td>\n",
       "      <td>অনুমিত</td>\n",
       "    </tr>\n",
       "    <tr>\n",
       "      <th>1</th>\n",
       "      <td>5.1</td>\n",
       "      <td>গোপাল</td>\n",
       "      <td>কলম</td>\n",
       "      <td>বাক্য</td>\n",
       "      <td>তারকা</td>\n",
       "      <td>আমরা</td>\n",
       "      <td>তালিম</td>\n",
       "      <td>মাথায়</td>\n",
       "      <td>মকর</td>\n",
       "      <td>তুলছি</td>\n",
       "      <td>...</td>\n",
       "      <td>তনারা</td>\n",
       "      <td>সৈতক</td>\n",
       "      <td>বোম্মাণ</td>\n",
       "      <td>ঘন্টাটি</td>\n",
       "      <td>একলা</td>\n",
       "      <td>বিবরণ</td>\n",
       "      <td>তিনি</td>\n",
       "      <td>তমলা</td>\n",
       "      <td>জলপান</td>\n",
       "      <td>অনুমতি</td>\n",
       "    </tr>\n",
       "    <tr>\n",
       "      <th>2</th>\n",
       "      <td>5.2</td>\n",
       "      <td>কপাল</td>\n",
       "      <td>কলম</td>\n",
       "      <td>বাক্য</td>\n",
       "      <td>তরকা</td>\n",
       "      <td>আমরা</td>\n",
       "      <td>তালিম</td>\n",
       "      <td>মাথায়</td>\n",
       "      <td>মকর</td>\n",
       "      <td>তুলসী</td>\n",
       "      <td>...</td>\n",
       "      <td>তেনারা</td>\n",
       "      <td>সৈকত</td>\n",
       "      <td>বাসন</td>\n",
       "      <td>ঘটনাটি</td>\n",
       "      <td>একলা</td>\n",
       "      <td>বিবরণ</td>\n",
       "      <td>তিনি</td>\n",
       "      <td>তোমাল</td>\n",
       "      <td>জলপান</td>\n",
       "      <td>অনুমিত</td>\n",
       "    </tr>\n",
       "    <tr>\n",
       "      <th>3</th>\n",
       "      <td>5.3</td>\n",
       "      <td>গোপাল</td>\n",
       "      <td>কলম</td>\n",
       "      <td>বাক্য</td>\n",
       "      <td>তরকা</td>\n",
       "      <td>আমরা</td>\n",
       "      <td>তালিম</td>\n",
       "      <td>মাতায়</td>\n",
       "      <td>মকর</td>\n",
       "      <td>তুলসী</td>\n",
       "      <td>...</td>\n",
       "      <td>তেনারা</td>\n",
       "      <td>সৈকক</td>\n",
       "      <td>বাসন</td>\n",
       "      <td>ঘটনাটি</td>\n",
       "      <td>একলা</td>\n",
       "      <td>বিবরণ</td>\n",
       "      <td>তিনি</td>\n",
       "      <td>তমাল</td>\n",
       "      <td>জলপান</td>\n",
       "      <td>অনুমতি</td>\n",
       "    </tr>\n",
       "    <tr>\n",
       "      <th>4</th>\n",
       "      <td>5.4</td>\n",
       "      <td>গোলাপি</td>\n",
       "      <td>কমলা</td>\n",
       "      <td>বাক্য</td>\n",
       "      <td>তারকা</td>\n",
       "      <td>আমার</td>\n",
       "      <td>তামিল</td>\n",
       "      <td>মাথায়</td>\n",
       "      <td>মকর</td>\n",
       "      <td>তুলসী</td>\n",
       "      <td>...</td>\n",
       "      <td>তনার</td>\n",
       "      <td>সেকত</td>\n",
       "      <td>বরগসন</td>\n",
       "      <td>ঘন্টাটি</td>\n",
       "      <td>একলা</td>\n",
       "      <td>বিরকন</td>\n",
       "      <td>তিনি</td>\n",
       "      <td>তমলা</td>\n",
       "      <td>জলপানি</td>\n",
       "      <td>অনুমতি</td>\n",
       "    </tr>\n",
       "  </tbody>\n",
       "</table>\n",
       "<p>5 rows × 61 columns</p>\n",
       "</div>"
      ],
      "text/plain": [
       "    Subject  Word 1 Word 2  Word 3 Word 4 Word 5 Word 6  Word 7 Word 8  \\\n",
       "0  Original   গোপাল    কলম   বাক্য  তারকা   আমরা  তালিম  মাথায়    মকর   \n",
       "1       5.1   গোপাল    কলম   বাক্য  তারকা   আমরা  তালিম  মাথায়    মকর   \n",
       "2       5.2    কপাল    কলম   বাক্য   তরকা   আমরা  তালিম  মাথায়    মকর   \n",
       "3       5.3   গোপাল    কলম  বাক্য    তরকা   আমরা  তালিম   মাতায়    মকর   \n",
       "4       5.4  গোলাপি   কমলা  বাক্য   তারকা   আমার  তামিল  মাথায়    মকর   \n",
       "\n",
       "   Word 9  ... Word 51 Word 52  Word 53  Word 54 Word 55 Word 56 Word 57  \\\n",
       "0   তুলসী  ...  তেনারা    সৈকত   ব্যাসন  ঘণ্টাটি    একলা   বিবরণ    তিনি   \n",
       "1   তুলছি  ...   তনারা    সৈতক  বোম্মাণ  ঘন্টাটি    একলা   বিবরণ    তিনি   \n",
       "2  তুলসী   ...  তেনারা    সৈকত     বাসন   ঘটনাটি    একলা   বিবরণ    তিনি   \n",
       "3   তুলসী  ...  তেনারা    সৈকক     বাসন   ঘটনাটি    একলা   বিবরণ    তিনি   \n",
       "4   তুলসী  ...    তনার    সেকত    বরগসন  ঘন্টাটি    একলা   বিরকন    তিনি   \n",
       "\n",
       "  Word 58 Word 59 Word 60  \n",
       "0    তমাল   জলপান  অনুমিত  \n",
       "1    তমলা   জলপান  অনুমতি  \n",
       "2   তোমাল   জলপান  অনুমিত  \n",
       "3    তমাল   জলপান  অনুমতি  \n",
       "4    তমলা  জলপানি  অনুমতি  \n",
       "\n",
       "[5 rows x 61 columns]"
      ]
     },
     "execution_count": 14,
     "metadata": {},
     "output_type": "execute_result"
    }
   ],
   "source": [
    "df = pd.read_csv('files/speech_data_bengali.csv')\n",
    "df = df.replace(float('nan'), None)\n",
    "df.head()"
   ]
  },
  {
   "cell_type": "markdown",
   "metadata": {},
   "source": [
    "## Preprocessing"
   ]
  },
  {
   "cell_type": "code",
   "execution_count": 15,
   "metadata": {},
   "outputs": [
    {
     "data": {
      "text/plain": [
       "[{'original': 'গোপাল', 'pronounced': 'গোপাল'},\n",
       " {'original': 'কলম', 'pronounced': 'কলম'},\n",
       " {'original': 'বাক্য', 'pronounced': 'বাক্য'},\n",
       " {'original': 'তারকা', 'pronounced': 'তারকা'},\n",
       " {'original': 'আমরা', 'pronounced': 'আমরা'},\n",
       " {'original': 'তালিম', 'pronounced': 'তালিম'},\n",
       " {'original': 'মাথায়', 'pronounced': 'মাথায়'},\n",
       " {'original': 'মকর', 'pronounced': 'মকর'},\n",
       " {'original': 'তুলসী', 'pronounced': 'তুলছি'},\n",
       " {'original': 'বালতি', 'pronounced': 'বালতি'},\n",
       " {'original': 'করেন', 'pronounced': 'করেন'},\n",
       " {'original': 'প্রমাণ', 'pronounced': 'রহমান'},\n",
       " {'original': 'বকুল', 'pronounced': 'বকুল'},\n",
       " {'original': 'নরম', 'pronounced': 'নরম'},\n",
       " {'original': 'চরকি', 'pronounced': 'চরকি'},\n",
       " {'original': 'তাকালো', 'pronounced': 'তাকাল'},\n",
       " {'original': 'ধরন', 'pronounced': 'ধরণ'},\n",
       " {'original': 'আনাজ', 'pronounced': 'আরআজ'},\n",
       " {'original': 'মানতেই', 'pronounced': 'মানতেই'},\n",
       " {'original': 'কদম', 'pronounced': 'কদম'},\n",
       " {'original': 'নেতারা', 'pronounced': 'নেতারা'},\n",
       " {'original': 'সতর্ক', 'pronounced': 'সর্থক'},\n",
       " {'original': 'সেবন', 'pronounced': 'সেবন'},\n",
       " {'original': 'ঘটনাটি', 'pronounced': 'ঘন্টাটি'},\n",
       " {'original': 'এলাকা', 'pronounced': 'এলাকা'},\n",
       " {'original': 'বিবর্ণ', 'pronounced': 'বীবমোণ'},\n",
       " {'original': 'নীতি', 'pronounced': 'নীতি'},\n",
       " {'original': 'মাতাল', 'pronounced': 'মাতাল'},\n",
       " {'original': 'জলপনা', 'pronounced': 'জলপানা'},\n",
       " {'original': 'অনুমতি', 'pronounced': 'অনুমতি'},\n",
       " {'original': 'গোলাপ', 'pronounced': 'গোপাল'},\n",
       " {'original': 'কমল', 'pronounced': 'কলম'},\n",
       " {'original': 'কাব্য্', 'pronounced': 'কাব্য্'},\n",
       " {'original': 'কাতার', 'pronounced': 'কাতার'},\n",
       " {'original': 'আরাম', 'pronounced': 'আরাম'},\n",
       " {'original': 'তামিল', 'pronounced': 'তামিল'},\n",
       " {'original': 'থামায়', 'pronounced': 'নামক'},\n",
       " {'original': 'রকম', 'pronounced': 'রকম'},\n",
       " {'original': 'শীতল', 'pronounced': 'শীতল'},\n",
       " {'original': 'বাতিল', 'pronounced': 'বাতিল'},\n",
       " {'original': 'কনের', 'pronounced': 'কনের'},\n",
       " {'original': 'প্রণাম', 'pronounced': 'প্রণাম'},\n",
       " {'original': 'কবূল', 'pronounced': 'কবল'},\n",
       " {'original': 'মরন', 'pronounced': 'মরন'},\n",
       " {'original': 'চাকরি', 'pronounced': 'চাকরি'},\n",
       " {'original': 'কাতলা', 'pronounced': 'কাতলা'},\n",
       " {'original': 'নধর', 'pronounced': 'নধর'},\n",
       " {'original': 'আজান', 'pronounced': 'আজান'},\n",
       " {'original': 'মাতানই', 'pronounced': 'মাতনাই'},\n",
       " {'original': 'দমক', 'pronounced': 'দমক'},\n",
       " {'original': 'তেনারা', 'pronounced': 'তনারা'},\n",
       " {'original': 'সৈকত', 'pronounced': 'সৈতক'},\n",
       " {'original': 'ব্যাসন', 'pronounced': 'বোম্মাণ'},\n",
       " {'original': 'ঘণ্টাটি', 'pronounced': 'ঘন্টাটি'},\n",
       " {'original': 'একলা', 'pronounced': 'একলা'},\n",
       " {'original': 'বিবরণ', 'pronounced': 'বিবরণ'},\n",
       " {'original': 'তিনি', 'pronounced': 'তিনি'},\n",
       " {'original': 'তমাল', 'pronounced': 'তমলা'},\n",
       " {'original': 'জলপান', 'pronounced': 'জলপান'},\n",
       " {'original': 'অনুমিত', 'pronounced': 'অনুমতি'}]"
      ]
     },
     "execution_count": 15,
     "metadata": {},
     "output_type": "execute_result"
    }
   ],
   "source": [
    "# Preprocessing\n",
    "df = df.applymap(lambda s: s.strip().lower() if type(s) == str else s)\n",
    "df.head()\n",
    "\n",
    "# Build required data structures\n",
    "subjects = [r[0] for i,r in df.iterrows() if i != 0]\n",
    "\n",
    "words = df[df['Subject'] == \"original\"].values.tolist()[0][1:]\n",
    "\n",
    "data = {s:[] for s in subjects}\n",
    "for s, row in df.iterrows():\n",
    "    if s != 0:\n",
    "        for i, word in enumerate(row[1:]):\n",
    "            data[subjects[s-1]].append({'original': words[i], 'pronounced': word})\n",
    "data['5.1']"
   ]
  },
  {
   "cell_type": "markdown",
   "metadata": {},
   "source": [
    "## Student Data"
   ]
  },
  {
   "cell_type": "code",
   "execution_count": 16,
   "metadata": {},
   "outputs": [],
   "source": [
    "def calculate_score(subject):\n",
    "    pronounced = df[df['Subject'] == subject].values.tolist()[0][1:]\n",
    "    original = df[df['Subject'] == \"original\"].values.tolist()[0][1:]\n",
    "    try:\n",
    "        return sum([1 if x == y else 0 for x,y in zip(pronounced,original)])\n",
    "    except:\n",
    "        print(pronounced)"
   ]
  },
  {
   "cell_type": "code",
   "execution_count": 17,
   "metadata": {},
   "outputs": [
    {
     "data": {
      "image/png": "[encoded data removed]",
      "text/plain": [
       "<Figure size 432x288 with 1 Axes>"
      ]
     },
     "metadata": {
      "needs_background": "light"
     },
     "output_type": "display_data"
    }
   ],
   "source": [
    "# Histogram\n",
    "scores = [calculate_score(x) for x in subjects]\n",
    "plt.hist(scores, bins=10)\n",
    "plt.show()"
   ]
  },
  {
   "cell_type": "code",
   "execution_count": 18,
   "metadata": {},
   "outputs": [
    {
     "data": {
      "image/png": "[encoded data removed]",
      "text/plain": [
       "<Figure size 1440x1440 with 4 Axes>"
      ]
     },
     "metadata": {
      "needs_background": "light"
     },
     "output_type": "display_data"
    }
   ],
   "source": [
    "# Classwise bar plots\n",
    "grade_5 = list(filter(lambda x: re.match(r\"^5.\\d*\", x), subjects))\n",
    "grade_4 = list(filter(lambda x: re.match(r\"^4.\\d*\", x), subjects))\n",
    "grade_3 = list(filter(lambda x: re.match(r\"^3.\\d*\", x), subjects))\n",
    "grade_2 = list(filter(lambda x: re.match(r\"^2.\\d*\", x), subjects))\n",
    "\n",
    "fig, (ax1, ax2, ax3, ax4) = plt.subplots(4, figsize=(20,20))\n",
    "\n",
    "ax1.bar(grade_5, scores[:len(grade_5)])\n",
    "ax1.set_title('Class 5')\n",
    "ax2.bar(grade_4, scores[len(grade_5):len(grade_5)+len(grade_4)])\n",
    "ax2.set_title('Class 4')\n",
    "ax3.bar(grade_3, scores[len(grade_5)+len(grade_4):len(grade_5)+len(grade_4)+len(grade_3)])\n",
    "ax3.set_title('Class 3')\n",
    "ax4.bar(grade_2, scores[len(grade_5)+len(grade_4)+len(grade_3):])\n",
    "ax4.set_title('Class 2')\n",
    "\n",
    "plt.show()"
   ]
  },
  {
   "cell_type": "markdown",
   "metadata": {},
   "source": [
    "## How the words were pronounced"
   ]
  },
  {
   "cell_type": "markdown",
   "metadata": {},
   "source": [
    "## Anagrams and migrations"
   ]
  },
  {
   "cell_type": "code",
   "execution_count": 19,
   "metadata": {},
   "outputs": [],
   "source": [
    "def check_anagram(word1, word2):\n",
    "    return sorted(word1) == sorted(word2)"
   ]
  },
  {
   "cell_type": "code",
   "execution_count": 20,
   "metadata": {},
   "outputs": [],
   "source": [
    "anagrams_pronounced, middle_migrations, exterior_migrations = [], [], []\n",
    "for _, row in data.items():\n",
    "    anagram_count, mid_mig_count, ext_mig_count = 0, 0, 0\n",
    "    for w in row:\n",
    "        w['is_anagram'] = (w['original'] != w['pronounced']) and \\\n",
    "                          check_anagram(w['original'], w['pronounced'])\n",
    "        if w['is_anagram']:\n",
    "            anagram_count += 1\n",
    "            if w['original'][0] != w['pronounced'][0] or w['original'][-1] != w['pronounced'][-1]:\n",
    "                w['is_exterior_migration'] = True\n",
    "                ext_mig_count += 1\n",
    "            else:\n",
    "                w['is_exterior_migration'] = False\n",
    "        \n",
    "            w['is_middle_migration'] = check_anagram(w['original'][1:-1], w['pronounced'][1:-1])\n",
    "            if w['is_middle_migration']:\n",
    "                mid_mig_count += 1\n",
    "        else:\n",
    "            w['is_exterior_migration'] = False\n",
    "            w['is_middle_migration'] = False\n",
    "    \n",
    "    anagrams_pronounced.append(anagram_count)\n",
    "    middle_migrations.append(mid_mig_count)\n",
    "    exterior_migrations.append(ext_mig_count)"
   ]
  },
  {
   "cell_type": "markdown",
   "metadata": {},
   "source": [
    "## Levenshtein Distance"
   ]
  },
  {
   "cell_type": "code",
   "execution_count": 21,
   "metadata": {},
   "outputs": [],
   "source": [
    "#Reference: https://www.datacamp.com/community/tutorials/fuzzy-string-python\n",
    "def levenshtein_distance(s, t):\n",
    "    rows, cols = len(s)+1, len(t)+1\n",
    "    distance = np.zeros((rows,cols),dtype = int)\n",
    "\n",
    "    for i in range(1, rows):\n",
    "        for k in range(1,cols):\n",
    "            distance[i][0], distance[0][k] = i, k\n",
    "  \n",
    "    for col in range(1, cols):\n",
    "        for row in range(1, rows):\n",
    "            if s[row-1] == t[col-1]:\n",
    "                cost = 0\n",
    "            else:\n",
    "                cost = 1\n",
    "            distance[row][col] = min(distance[row-1][col] + 1,\n",
    "                                 distance[row][col-1] + 1,\n",
    "                                 distance[row-1][col-1] + cost)\n",
    "    return distance[row][col]\n",
    "\n"
   ]
  },
  {
   "cell_type": "code",
   "execution_count": 22,
   "metadata": {},
   "outputs": [],
   "source": [
    "avg_levenshtein_distances = []\n",
    "for _, row in data.items():\n",
    "    total_distance = 0\n",
    "    for w in row:\n",
    "        w['distance'] = levenshtein_distance(w['original'], w['pronounced'])\n",
    "        total_distance += w['distance']\n",
    "    avg_levenshtein_distances.append(total_distance/len(words))"
   ]
  },
  {
   "cell_type": "code",
   "execution_count": 23,
   "metadata": {},
   "outputs": [],
   "source": [
    "processed_df = pd.DataFrame(\n",
    "    data={\"Subject\": subjects, \"Average Levenshtein Distance\": avg_levenshtein_distances, \n",
    "          \"Anagrams pronounced\": anagrams_pronounced, \"Middle letter migrations\": middle_migrations, \n",
    "          \"Exterior Migrations\": exterior_migrations}\n",
    ")\n",
    "processed_df\n",
    "# processed_df.to_csv(\"files/bengali_processed.csv\", index=False)"
   ]
  }
 ],
 "metadata": {
  "kernelspec": {
   "display_name": "Python 3",
   "language": "python",
   "name": "python3"
  },
  "language_info": {
   "codemirror_mode": {
    "name": "ipython",
    "version": 3
   },
   "file_extension": ".py",
   "mimetype": "text/x-python",
   "name": "python",
   "nbconvert_exporter": "python",
   "pygments_lexer": "ipython3",
   "version": "3.7.4"
  }
 },
 "nbformat": 4,
 "nbformat_minor": 4
}
