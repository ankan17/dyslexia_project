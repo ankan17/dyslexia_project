{
 "cells": [
  {
   "cell_type": "code",
   "execution_count": 2,
   "metadata": {},
   "outputs": [],
   "source": [
    "import pandas as pd\n",
    "import seaborn as sns\n",
    "import matplotlib.pyplot as plt\n",
    "\n",
    "lpd_group = pd.read_csv('files/lpd_group.csv')\n",
    "control_group = pd.read_csv('files/control_group.csv')"
   ]
  },
  {
   "cell_type": "code",
   "execution_count": 3,
   "metadata": {},
   "outputs": [
    {
     "data": {
      "text/html": [
       "<div>\n",
       "<style scoped>\n",
       "    .dataframe tbody tr th:only-of-type {\n",
       "        vertical-align: middle;\n",
       "    }\n",
       "\n",
       "    .dataframe tbody tr th {\n",
       "        vertical-align: top;\n",
       "    }\n",
       "\n",
       "    .dataframe thead th {\n",
       "        text-align: right;\n",
       "    }\n",
       "</style>\n",
       "<table border=\"1\" class=\"dataframe\">\n",
       "  <thead>\n",
       "    <tr style=\"text-align: right;\">\n",
       "      <th></th>\n",
       "      <th>subject</th>\n",
       "      <th>avg_ld_eng</th>\n",
       "      <th>anagrams_eng</th>\n",
       "      <th>ml_migrations_eng</th>\n",
       "      <th>el_migrations_eng</th>\n",
       "      <th>avg_ld_ben</th>\n",
       "      <th>anagrams_ben</th>\n",
       "      <th>ml_migrations_ben</th>\n",
       "      <th>el_migrations_ben</th>\n",
       "    </tr>\n",
       "  </thead>\n",
       "  <tbody>\n",
       "    <tr>\n",
       "      <th>0</th>\n",
       "      <td>5.12</td>\n",
       "      <td>0.783333</td>\n",
       "      <td>0.933333</td>\n",
       "      <td>21</td>\n",
       "      <td>9</td>\n",
       "      <td>18</td>\n",
       "      <td>0</td>\n",
       "      <td>3</td>\n",
       "      <td>9</td>\n",
       "    </tr>\n",
       "    <tr>\n",
       "      <th>1</th>\n",
       "      <td>5.13</td>\n",
       "      <td>1.083333</td>\n",
       "      <td>0.816667</td>\n",
       "      <td>27</td>\n",
       "      <td>8</td>\n",
       "      <td>24</td>\n",
       "      <td>0</td>\n",
       "      <td>3</td>\n",
       "      <td>8</td>\n",
       "    </tr>\n",
       "    <tr>\n",
       "      <th>2</th>\n",
       "      <td>5.16</td>\n",
       "      <td>0.733333</td>\n",
       "      <td>0.566667</td>\n",
       "      <td>19</td>\n",
       "      <td>10</td>\n",
       "      <td>17</td>\n",
       "      <td>2</td>\n",
       "      <td>2</td>\n",
       "      <td>8</td>\n",
       "    </tr>\n",
       "    <tr>\n",
       "      <th>3</th>\n",
       "      <td>5.18</td>\n",
       "      <td>1.083333</td>\n",
       "      <td>0.783333</td>\n",
       "      <td>21</td>\n",
       "      <td>9</td>\n",
       "      <td>18</td>\n",
       "      <td>1</td>\n",
       "      <td>3</td>\n",
       "      <td>8</td>\n",
       "    </tr>\n",
       "    <tr>\n",
       "      <th>4</th>\n",
       "      <td>4.16</td>\n",
       "      <td>1.000000</td>\n",
       "      <td>0.850000</td>\n",
       "      <td>22</td>\n",
       "      <td>8</td>\n",
       "      <td>20</td>\n",
       "      <td>0</td>\n",
       "      <td>2</td>\n",
       "      <td>8</td>\n",
       "    </tr>\n",
       "  </tbody>\n",
       "</table>\n",
       "</div>"
      ],
      "text/plain": [
       "   subject  avg_ld_eng  anagrams_eng  ml_migrations_eng  el_migrations_eng  \\\n",
       "0     5.12    0.783333      0.933333                 21                  9   \n",
       "1     5.13    1.083333      0.816667                 27                  8   \n",
       "2     5.16    0.733333      0.566667                 19                 10   \n",
       "3     5.18    1.083333      0.783333                 21                  9   \n",
       "4     4.16    1.000000      0.850000                 22                  8   \n",
       "\n",
       "   avg_ld_ben  anagrams_ben  ml_migrations_ben  el_migrations_ben  \n",
       "0          18             0                  3                  9  \n",
       "1          24             0                  3                  8  \n",
       "2          17             2                  2                  8  \n",
       "3          18             1                  3                  8  \n",
       "4          20             0                  2                  8  "
      ]
     },
     "execution_count": 3,
     "metadata": {},
     "output_type": "execute_result"
    }
   ],
   "source": [
    "lpd_group.head()"
   ]
  },
  {
   "cell_type": "code",
   "execution_count": 4,
   "metadata": {},
   "outputs": [
    {
     "data": {
      "text/html": [
       "<div>\n",
       "<style scoped>\n",
       "    .dataframe tbody tr th:only-of-type {\n",
       "        vertical-align: middle;\n",
       "    }\n",
       "\n",
       "    .dataframe tbody tr th {\n",
       "        vertical-align: top;\n",
       "    }\n",
       "\n",
       "    .dataframe thead th {\n",
       "        text-align: right;\n",
       "    }\n",
       "</style>\n",
       "<table border=\"1\" class=\"dataframe\">\n",
       "  <thead>\n",
       "    <tr style=\"text-align: right;\">\n",
       "      <th></th>\n",
       "      <th>subject</th>\n",
       "      <th>avg_ld_eng</th>\n",
       "      <th>anagrams_eng</th>\n",
       "      <th>ml_migrations_eng</th>\n",
       "      <th>el_migrations_eng</th>\n",
       "      <th>avg_ld_ben</th>\n",
       "      <th>anagrams_ben</th>\n",
       "      <th>ml_migrations_ben</th>\n",
       "      <th>el_migrations_ben</th>\n",
       "    </tr>\n",
       "  </thead>\n",
       "  <tbody>\n",
       "    <tr>\n",
       "      <th>0</th>\n",
       "      <td>3.51</td>\n",
       "      <td>0.783</td>\n",
       "      <td>21</td>\n",
       "      <td>19</td>\n",
       "      <td>2</td>\n",
       "      <td>0.3500</td>\n",
       "      <td>3</td>\n",
       "      <td>1</td>\n",
       "      <td>3</td>\n",
       "    </tr>\n",
       "    <tr>\n",
       "      <th>1</th>\n",
       "      <td>3.52</td>\n",
       "      <td>0.683</td>\n",
       "      <td>13</td>\n",
       "      <td>11</td>\n",
       "      <td>2</td>\n",
       "      <td>0.9330</td>\n",
       "      <td>6</td>\n",
       "      <td>0</td>\n",
       "      <td>6</td>\n",
       "    </tr>\n",
       "    <tr>\n",
       "      <th>2</th>\n",
       "      <td>3.53</td>\n",
       "      <td>0.330</td>\n",
       "      <td>7</td>\n",
       "      <td>5</td>\n",
       "      <td>2</td>\n",
       "      <td>0.1833</td>\n",
       "      <td>1</td>\n",
       "      <td>0</td>\n",
       "      <td>1</td>\n",
       "    </tr>\n",
       "    <tr>\n",
       "      <th>3</th>\n",
       "      <td>3.54</td>\n",
       "      <td>0.366</td>\n",
       "      <td>11</td>\n",
       "      <td>9</td>\n",
       "      <td>2</td>\n",
       "      <td>0.1166</td>\n",
       "      <td>1</td>\n",
       "      <td>0</td>\n",
       "      <td>1</td>\n",
       "    </tr>\n",
       "    <tr>\n",
       "      <th>4</th>\n",
       "      <td>3.55</td>\n",
       "      <td>0.233</td>\n",
       "      <td>7</td>\n",
       "      <td>6</td>\n",
       "      <td>1</td>\n",
       "      <td>0.2660</td>\n",
       "      <td>2</td>\n",
       "      <td>0</td>\n",
       "      <td>2</td>\n",
       "    </tr>\n",
       "  </tbody>\n",
       "</table>\n",
       "</div>"
      ],
      "text/plain": [
       "   subject  avg_ld_eng  anagrams_eng  ml_migrations_eng  el_migrations_eng  \\\n",
       "0     3.51       0.783            21                 19                  2   \n",
       "1     3.52       0.683            13                 11                  2   \n",
       "2     3.53       0.330             7                  5                  2   \n",
       "3     3.54       0.366            11                  9                  2   \n",
       "4     3.55       0.233             7                  6                  1   \n",
       "\n",
       "   avg_ld_ben  anagrams_ben  ml_migrations_ben  el_migrations_ben  \n",
       "0      0.3500             3                  1                  3  \n",
       "1      0.9330             6                  0                  6  \n",
       "2      0.1833             1                  0                  1  \n",
       "3      0.1166             1                  0                  1  \n",
       "4      0.2660             2                  0                  2  "
      ]
     },
     "execution_count": 4,
     "metadata": {},
     "output_type": "execute_result"
    }
   ],
   "source": [
    "control_group.head()"
   ]
  },
  {
   "cell_type": "markdown",
   "metadata": {},
   "source": [
    "## Distribution of the data"
   ]
  },
  {
   "cell_type": "code",
   "execution_count": 21,
   "metadata": {},
   "outputs": [
    {
     "data": {
      "image/png": "[encoded data removed]",
      "text/plain": [
       "<Figure size 1080x360 with 2 Axes>"
      ]
     },
     "metadata": {
      "needs_background": "light"
     },
     "output_type": "display_data"
    }
   ],
   "source": [
    "plt.figure(figsize=(15,5))\n",
    "\n",
    "plt.subplot(1, 2, 1)\n",
    "sns.distplot(lpd_group['anagrams_eng'])\n",
    "sns.distplot(control_group['anagrams_eng'])\n",
    "plt.legend([\"LPD Group\", \"Control group\"])\n",
    "plt.xlabel(\"Number of anagrams pronounced in English\")\n",
    "plt.title(\"Distribution of anagrams pronounced in English\")\n",
    "\n",
    "plt.subplot(1, 2, 2)\n",
    "sns.distplot(lpd_group['anagrams_ben'])\n",
    "sns.distplot(control_group['anagrams_ben'])\n",
    "plt.legend([\"LPD Group\", \"Control group\"])\n",
    "plt.xlabel(\"Number of anagrams pronounced in Bengali\")\n",
    "plt.title(\"Distribution of anagrams pronounced in Bengali\")\n",
    "\n",
    "plt.show()"
   ]
  },
  {
   "cell_type": "code",
   "execution_count": 31,
   "metadata": {},
   "outputs": [
    {
     "data": {
      "image/png": "[encoded data removed]",
      "text/plain": [
       "<Figure size 1080x360 with 2 Axes>"
      ]
     },
     "metadata": {
      "needs_background": "light"
     },
     "output_type": "display_data"
    }
   ],
   "source": [
    "plt.figure(figsize=(15,5))\n",
    "\n",
    "plt.subplot(1, 2, 1)\n",
    "sns.distplot(lpd_group['ml_migrations_eng'])\n",
    "sns.distplot(control_group['ml_migrations_eng'])\n",
    "plt.legend([\"LPD Group\", \"Control group\"])\n",
    "plt.xlabel(\"Number of middle letter migrations pronounced in English\")\n",
    "plt.title(\"Distribution of middle letter migrations pronounced in English\")\n",
    "\n",
    "plt.subplot(1, 2, 2)\n",
    "sns.distplot(lpd_group['ml_migrations_ben'])\n",
    "sns.distplot(control_group['ml_migrations_ben'], kde_kws={'bw': 0.15})\n",
    "plt.legend([\"LPD Group\", \"Control group\"])\n",
    "plt.xlabel(\"Number of middle letter migrations pronounced in Bengali\")\n",
    "plt.title(\"Distribution of middle letter migrations pronounced in Bengali\")\n",
    "\n",
    "plt.show()"
   ]
  },
  {
   "cell_type": "code",
   "execution_count": 32,
   "metadata": {},
   "outputs": [
    {
     "data": {
      "image/png": "[encoded data removed]",
      "text/plain": [
       "<Figure size 1080x360 with 2 Axes>"
      ]
     },
     "metadata": {
      "needs_background": "light"
     },
     "output_type": "display_data"
    }
   ],
   "source": [
    "plt.figure(figsize=(15,5))\n",
    "\n",
    "plt.subplot(1, 2, 1)\n",
    "sns.distplot(lpd_group['el_migrations_eng'])\n",
    "sns.distplot(control_group['el_migrations_eng'])\n",
    "plt.legend([\"LPD Group\", \"Control group\"])\n",
    "plt.xlabel(\"Number of exterior letter migrations pronounced in English\")\n",
    "plt.title(\"Distribution of exterior letter migrations pronounced in English\")\n",
    "\n",
    "plt.subplot(1, 2, 2)\n",
    "sns.distplot(lpd_group['el_migrations_ben'])\n",
    "sns.distplot(control_group['el_migrations_ben'])\n",
    "plt.legend([\"LPD Group\", \"Control group\"])\n",
    "plt.xlabel(\"Number of exterior letter migrations pronounced in Bengali\")\n",
    "plt.title(\"Distribution of exterior letter migrations pronounced in Bengali\")\n",
    "\n",
    "plt.show()"
   ]
  },
  {
   "cell_type": "markdown",
   "metadata": {},
   "source": [
    "## Numerical analysis of the data"
   ]
  },
  {
   "cell_type": "code",
   "execution_count": 33,
   "metadata": {},
   "outputs": [
    {
     "name": "stdout",
     "output_type": "stream",
     "text": [
      "Mean anagrams pronounced by lpd group subjects = 0.33\n",
      "Mean anagrams pronounced by control group subjects = 1.75\n",
      "Standard deviation of anagrams pronounced by lpd group subjects = 0.62\n",
      "Standard deviation of anagrams pronounced by control group subjects = 1.59\n"
     ]
    }
   ],
   "source": [
    "import numpy as np\n",
    "\n",
    "lpd_anagrams_bengali_mean = np.mean(lpd_group['anagrams_ben'].values)\n",
    "control_anagrams_bengali_mean = np.mean(control_group['anagrams_ben'].values)\n",
    "\n",
    "print(\"Mean anagrams pronounced by lpd group subjects = %.2f\" % (lpd_anagrams_bengali_mean))\n",
    "print(\"Mean anagrams pronounced by control group subjects = %.2f\" % (control_anagrams_bengali_mean))\n",
    "\n",
    "lpd_anagrams_bengali_std = np.std(lpd_group['anagrams_ben'].values)\n",
    "control_anagrams_bengali_std = np.std(control_group['anagrams_ben'].values)\n",
    "\n",
    "print(\"Standard deviation of anagrams pronounced by lpd group subjects = %.2f\" % (lpd_anagrams_bengali_std))\n",
    "print(\"Standard deviation of anagrams pronounced by control group subjects = %.2f\" % (control_anagrams_bengali_std))"
   ]
  },
  {
   "cell_type": "code",
   "execution_count": 34,
   "metadata": {},
   "outputs": [
    {
     "name": "stdout",
     "output_type": "stream",
     "text": [
      "Mean number of middle letter migrations pronounced by lpd group subjects = 2.92\n",
      "Mean number of middle letter migrations pronounced by control group subjects = 0.17\n",
      "Standard deviation of middle letter migrations pronounced by lpd group subjects = 0.86\n",
      "Standard deviation of middle letter migrations pronounced by control group subjects = 0.37\n"
     ]
    }
   ],
   "source": [
    "lpd_ml_migrations_bengali_mean = np.mean(lpd_group['ml_migrations_ben'].values)\n",
    "control_ml_migrations_bengali_mean = np.mean(control_group['ml_migrations_ben'].values)\n",
    "\n",
    "print(\"Mean number of middle letter migrations pronounced by lpd group subjects = %.2f\" % (lpd_ml_migrations_bengali_mean))\n",
    "print(\"Mean number of middle letter migrations pronounced by control group subjects = %.2f\" % (control_ml_migrations_bengali_mean))\n",
    "\n",
    "lpd_ml_migrations_bengali_std = np.std(lpd_group['ml_migrations_ben'].values)\n",
    "control_ml_migrations_bengali_std = np.std(control_group['ml_migrations_ben'].values)\n",
    "\n",
    "print(\"Standard deviation of middle letter migrations pronounced by lpd group subjects = %.2f\" % (lpd_ml_migrations_bengali_std))\n",
    "print(\"Standard deviation of middle letter migrations pronounced by control group subjects = %.2f\" % (control_ml_migrations_bengali_std))"
   ]
  },
  {
   "cell_type": "code",
   "execution_count": 35,
   "metadata": {},
   "outputs": [
    {
     "name": "stdout",
     "output_type": "stream",
     "text": [
      "Mean number of exterior letter migrations pronounced by lpd group subjects = 7.92\n",
      "Mean number of exterior letter migrations pronounced by control group subjects = 1.67\n",
      "Standard deviation of exterior letter migrations pronounced by lpd group subjects = 0.86\n",
      "Standard deviation of exterior letter migrations pronounced by control group subjects = 1.60\n"
     ]
    }
   ],
   "source": [
    "lpd_el_migrations_bengali_mean = np.mean(lpd_group['el_migrations_ben'].values)\n",
    "control_el_migrations_bengali_mean = np.mean(control_group['el_migrations_ben'].values)\n",
    "\n",
    "print(\"Mean number of exterior letter migrations pronounced by lpd group subjects = %.2f\" % (lpd_el_migrations_bengali_mean))\n",
    "print(\"Mean number of exterior letter migrations pronounced by control group subjects = %.2f\" % (control_el_migrations_bengali_mean))\n",
    "\n",
    "lpd_el_migrations_bengali_std = np.std(lpd_group['el_migrations_ben'].values)\n",
    "control_el_migrations_bengali_std = np.std(control_group['el_migrations_ben'].values)\n",
    "\n",
    "print(\"Standard deviation of exterior letter migrations pronounced by lpd group subjects = %.2f\" % (lpd_el_migrations_bengali_std))\n",
    "print(\"Standard deviation of exterior letter migrations pronounced by control group subjects = %.2f\" % (control_el_migrations_bengali_std))"
   ]
  },
  {
   "cell_type": "markdown",
   "metadata": {},
   "source": [
    "## Two sampled t-test"
   ]
  },
  {
   "cell_type": "markdown",
   "metadata": {},
   "source": [
    "**Null hypothesis:** The number of anagrams pronounced by the LPD group in bengali have a similar mean as the number of anagrams pronounced by the control group (mean difference is 0)."
   ]
  },
  {
   "cell_type": "code",
   "execution_count": 8,
   "metadata": {},
   "outputs": [
    {
     "name": "stdout",
     "output_type": "stream",
     "text": [
      "p-value for T-test = 0.01\n",
      "We reject null hypothesis\n",
      "There is significant difference between means of anagrams pronounced by the two groups\n"
     ]
    }
   ],
   "source": [
    "from scipy.stats import ttest_ind\n",
    "\n",
    "ttest, pval = ttest_ind(lpd_group['anagrams_ben'].values, control_group['anagrams_ben'].values)\n",
    "print(\"p-value for T-test = %.2f\" % (pval))\n",
    "\n",
    "if pval <= 0.05:\n",
    "    print(\"We reject null hypothesis\")\n",
    "    print(\"There is significant difference between means of anagrams pronounced by the two groups\")\n",
    "else:\n",
    "    print(\"We accept null hypothesis\")\n",
    "    print(\"There is no significant difference between means of anagrams pronounced by the two groups\")"
   ]
  },
  {
   "cell_type": "markdown",
   "metadata": {},
   "source": [
    "**Null hypothesis:** The number of middle letter migrations pronounced by the LPD group in bengali have a similar mean as the number of middle letter migrations pronounced by the control group (mean difference is 0)."
   ]
  },
  {
   "cell_type": "code",
   "execution_count": 9,
   "metadata": {},
   "outputs": [
    {
     "name": "stdout",
     "output_type": "stream",
     "text": [
      "p-value for T-test = 0.00\n",
      "We reject null hypothesis\n",
      "There is significant difference between means of middle letter migrations pronounced by the two groups\n"
     ]
    }
   ],
   "source": [
    "ttest, pval = ttest_ind(lpd_group['ml_migrations_ben'].values, control_group['ml_migrations_ben'].values)\n",
    "print(\"p-value for T-test = %.2f\" % (pval))\n",
    "\n",
    "if pval <= 0.05:\n",
    "    print(\"We reject null hypothesis\")\n",
    "    print(\"There is significant difference between means of middle letter migrations pronounced by the two groups\")\n",
    "else:\n",
    "    print(\"We accept null hypothesis\")\n",
    "    print(\"There is no significant difference between means of middle letter migrations pronounced by the two groups\")"
   ]
  },
  {
   "cell_type": "markdown",
   "metadata": {},
   "source": [
    "**Null hypothesis:** The number of exterior letter migrations pronounced by the LPD group in bengali have a similar mean as the number of exterior letter migrations pronounced by the control group (mean difference is 0)."
   ]
  },
  {
   "cell_type": "code",
   "execution_count": 10,
   "metadata": {},
   "outputs": [
    {
     "name": "stdout",
     "output_type": "stream",
     "text": [
      "p-value for T-test = 0.00\n",
      "We reject null hypothesis\n",
      "There is significant difference between means of exterior letter migrations pronounced by the two groups\n"
     ]
    }
   ],
   "source": [
    "ttest, pval = ttest_ind(lpd_group['el_migrations_ben'].values, control_group['el_migrations_ben'].values)\n",
    "print(\"p-value for T-test = %.2f\" % (pval))\n",
    "\n",
    "if pval <= 0.05:\n",
    "    print(\"We reject null hypothesis\")\n",
    "    print(\"There is significant difference between means of exterior letter migrations pronounced by the two groups\")\n",
    "else:\n",
    "    print(\"We accept null hypothesis\")\n",
    "    print(\"There is no significant difference between means of exterior letter migrations pronounced by the two groups\")"
   ]
  },
  {
   "cell_type": "markdown",
   "metadata": {},
   "source": [
    "## One-sampled t-test"
   ]
  },
  {
   "cell_type": "code",
   "execution_count": 46,
   "metadata": {},
   "outputs": [
    {
     "data": {
      "text/html": [
       "<div>\n",
       "<style scoped>\n",
       "    .dataframe tbody tr th:only-of-type {\n",
       "        vertical-align: middle;\n",
       "    }\n",
       "\n",
       "    .dataframe tbody tr th {\n",
       "        vertical-align: top;\n",
       "    }\n",
       "\n",
       "    .dataframe thead th {\n",
       "        text-align: right;\n",
       "    }\n",
       "</style>\n",
       "<table border=\"1\" class=\"dataframe\">\n",
       "  <thead>\n",
       "    <tr style=\"text-align: right;\">\n",
       "      <th></th>\n",
       "      <th>subject</th>\n",
       "      <th>anagrams_pvalue</th>\n",
       "      <th>ml_migrations_pvalue</th>\n",
       "      <th>el_migrations_pvalue</th>\n",
       "    </tr>\n",
       "  </thead>\n",
       "  <tbody>\n",
       "    <tr>\n",
       "      <th>0</th>\n",
       "      <td>3.51</td>\n",
       "      <td>2.052774e-08</td>\n",
       "      <td>1.404223e-05</td>\n",
       "      <td>9.702008e-10</td>\n",
       "    </tr>\n",
       "    <tr>\n",
       "      <th>1</th>\n",
       "      <td>3.52</td>\n",
       "      <td>6.342771e-12</td>\n",
       "      <td>2.309567e-07</td>\n",
       "      <td>1.404223e-05</td>\n",
       "    </tr>\n",
       "    <tr>\n",
       "      <th>2</th>\n",
       "      <td>3.53</td>\n",
       "      <td>4.587203e-03</td>\n",
       "      <td>2.309567e-07</td>\n",
       "      <td>2.449926e-11</td>\n",
       "    </tr>\n",
       "    <tr>\n",
       "      <th>3</th>\n",
       "      <td>3.54</td>\n",
       "      <td>4.587203e-03</td>\n",
       "      <td>2.309567e-07</td>\n",
       "      <td>2.449926e-11</td>\n",
       "    </tr>\n",
       "    <tr>\n",
       "      <th>4</th>\n",
       "      <td>3.55</td>\n",
       "      <td>2.432157e-06</td>\n",
       "      <td>2.309567e-07</td>\n",
       "      <td>1.326905e-10</td>\n",
       "    </tr>\n",
       "    <tr>\n",
       "      <th>5</th>\n",
       "      <td>3.70</td>\n",
       "      <td>1.039157e-01</td>\n",
       "      <td>2.309567e-07</td>\n",
       "      <td>5.650010e-12</td>\n",
       "    </tr>\n",
       "    <tr>\n",
       "      <th>6</th>\n",
       "      <td>3.90</td>\n",
       "      <td>1.039157e-01</td>\n",
       "      <td>2.309567e-07</td>\n",
       "      <td>5.650010e-12</td>\n",
       "    </tr>\n",
       "    <tr>\n",
       "      <th>7</th>\n",
       "      <td>5.19</td>\n",
       "      <td>2.432157e-06</td>\n",
       "      <td>2.309567e-07</td>\n",
       "      <td>1.326905e-10</td>\n",
       "    </tr>\n",
       "    <tr>\n",
       "      <th>8</th>\n",
       "      <td>4.15</td>\n",
       "      <td>2.432157e-06</td>\n",
       "      <td>2.309567e-07</td>\n",
       "      <td>1.326905e-10</td>\n",
       "    </tr>\n",
       "    <tr>\n",
       "      <th>9</th>\n",
       "      <td>5.11</td>\n",
       "      <td>2.432157e-06</td>\n",
       "      <td>1.404223e-05</td>\n",
       "      <td>2.449926e-11</td>\n",
       "    </tr>\n",
       "    <tr>\n",
       "      <th>10</th>\n",
       "      <td>4.50</td>\n",
       "      <td>2.432157e-06</td>\n",
       "      <td>2.309567e-07</td>\n",
       "      <td>1.326905e-10</td>\n",
       "    </tr>\n",
       "    <tr>\n",
       "      <th>11</th>\n",
       "      <td>5.15</td>\n",
       "      <td>1.039157e-01</td>\n",
       "      <td>2.309567e-07</td>\n",
       "      <td>5.650010e-12</td>\n",
       "    </tr>\n",
       "  </tbody>\n",
       "</table>\n",
       "</div>"
      ],
      "text/plain": [
       "    subject  anagrams_pvalue  ml_migrations_pvalue  el_migrations_pvalue\n",
       "0      3.51     2.052774e-08          1.404223e-05          9.702008e-10\n",
       "1      3.52     6.342771e-12          2.309567e-07          1.404223e-05\n",
       "2      3.53     4.587203e-03          2.309567e-07          2.449926e-11\n",
       "3      3.54     4.587203e-03          2.309567e-07          2.449926e-11\n",
       "4      3.55     2.432157e-06          2.309567e-07          1.326905e-10\n",
       "5      3.70     1.039157e-01          2.309567e-07          5.650010e-12\n",
       "6      3.90     1.039157e-01          2.309567e-07          5.650010e-12\n",
       "7      5.19     2.432157e-06          2.309567e-07          1.326905e-10\n",
       "8      4.15     2.432157e-06          2.309567e-07          1.326905e-10\n",
       "9      5.11     2.432157e-06          1.404223e-05          2.449926e-11\n",
       "10     4.50     2.432157e-06          2.309567e-07          1.326905e-10\n",
       "11     5.15     1.039157e-01          2.309567e-07          5.650010e-12"
      ]
     },
     "execution_count": 46,
     "metadata": {},
     "output_type": "execute_result"
    }
   ],
   "source": [
    "from scipy.stats import ttest_1samp\n",
    "\n",
    "anagrams_p = []\n",
    "for num in control_group['anagrams_ben']:\n",
    "    ttest, pval = ttest_1samp(lpd_group['anagrams_ben'], num)\n",
    "    anagrams_p.append(pval)\n",
    "    \n",
    "ml_migrations_p = []\n",
    "for num in control_group['ml_migrations_ben']:\n",
    "    ttest, pval = ttest_1samp(lpd_group['ml_migrations_ben'], num)\n",
    "    ml_migrations_p.append(pval)\n",
    "    \n",
    "el_migrations_p = []\n",
    "for num in control_group['el_migrations_ben']:\n",
    "    ttest, pval = ttest_1samp(lpd_group['el_migrations_ben'], num)\n",
    "    el_migrations_p.append(pval)\n",
    "    \n",
    "result_data = pd.DataFrame.from_dict({\n",
    "    'subject': control_group['subject'].values,\n",
    "    'anagrams_pvalue': anagrams_p,\n",
    "    'ml_migrations_pvalue': ml_migrations_p,\n",
    "    'el_migrations_pvalue': el_migrations_p\n",
    "})\n",
    "result_data"
   ]
  }
 ],
 "metadata": {
  "kernelspec": {
   "display_name": "Python 3",
   "language": "python",
   "name": "python3"
  },
  "language_info": {
   "codemirror_mode": {
    "name": "ipython",
    "version": 3
   },
   "file_extension": ".py",
   "mimetype": "text/x-python",
   "name": "python",
   "nbconvert_exporter": "python",
   "pygments_lexer": "ipython3",
   "version": "3.7.4"
  }
 },
 "nbformat": 4,
 "nbformat_minor": 4
}
